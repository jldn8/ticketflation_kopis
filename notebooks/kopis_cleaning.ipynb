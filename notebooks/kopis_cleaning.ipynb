{
 "cells": [
  {
   "cell_type": "code",
   "execution_count": 1,
   "id": "0f820ccb",
   "metadata": {},
   "outputs": [],
   "source": [
    "import pandas as pd"
   ]
  },
  {
   "cell_type": "code",
   "execution_count": 2,
   "id": "0392033e",
   "metadata": {},
   "outputs": [
    {
     "name": "stderr",
     "output_type": "stream",
     "text": [
      "C:\\Users\\Public\\Documents\\ESTsoft\\CreatorTemp\\ipykernel_5268\\3718354033.py:1: DtypeWarning: Columns (30,32,33,35,36,39) have mixed types. Specify dtype option on import or set low_memory=False.\n",
      "  df = pd.read_csv('../datasets/KOPIS/performance.csv')\n"
     ]
    }
   ],
   "source": [
    "df = pd.read_csv('../datasets/KOPIS/performance.csv')"
   ]
  },
  {
   "cell_type": "code",
   "execution_count": 4,
   "id": "9b88f783",
   "metadata": {},
   "outputs": [
    {
     "data": {
      "text/plain": [
       "(35630, 40)"
      ]
     },
     "execution_count": 4,
     "metadata": {},
     "output_type": "execute_result"
    }
   ],
   "source": [
    "df.shape"
   ]
  },
  {
   "cell_type": "code",
   "execution_count": 5,
   "id": "0c157741",
   "metadata": {},
   "outputs": [
    {
     "data": {
      "text/plain": [
       "Index(['공연ID', '공연명', '공연시작일', '공연종료일', '공연시설명', '출연진', '제작진', '런타임', '관람연령',\n",
       "       '제작사', '기획사', '주최', '주관', '티켓가격', '포스터URL', '줄거리', '공연지역', '공연장르명',\n",
       "       '오픈런', '내한여부', '아동공연여부', '대학로공연여부', '축제여부', '뮤지컬라이센스', '뮤지컬창작', '최종수정일',\n",
       "       '공연상태', '공연시설ID', '공연시간', '소개이미지목록', '장르(통계)', '상연횟수', '공연명(통계)',\n",
       "       '공연시설명(통계)', '제작/기획사(통계)', '공연시작일(통계)', '공연종료일(통계)', '연도(통계)', '월(통계)',\n",
       "       '장르코드(통계)'],\n",
       "      dtype='object')"
      ]
     },
     "execution_count": 5,
     "metadata": {},
     "output_type": "execute_result"
    }
   ],
   "source": [
    "df.columns"
   ]
  },
  {
   "cell_type": "code",
   "execution_count": 8,
   "id": "dda3ce0c",
   "metadata": {},
   "outputs": [
    {
     "name": "stdout",
     "output_type": "stream",
     "text": [
      "<class 'pandas.core.frame.DataFrame'>\n",
      "RangeIndex: 35630 entries, 0 to 35629\n",
      "Data columns (total 40 columns):\n",
      " #   Column      Non-Null Count  Dtype  \n",
      "---  ------      --------------  -----  \n",
      " 0   공연ID        35630 non-null  object \n",
      " 1   공연명         35628 non-null  object \n",
      " 2   공연시작일       35628 non-null  object \n",
      " 3   공연종료일       35628 non-null  object \n",
      " 4   공연시설명       35612 non-null  object \n",
      " 5   출연진         22837 non-null  object \n",
      " 6   제작진         15795 non-null  object \n",
      " 7   런타임         34072 non-null  object \n",
      " 8   관람연령        34912 non-null  object \n",
      " 9   제작사         15546 non-null  object \n",
      " 10  기획사         4161 non-null   object \n",
      " 11  주최          21919 non-null  object \n",
      " 12  주관          15439 non-null  object \n",
      " 13  티켓가격        34555 non-null  object \n",
      " 14  포스터URL      34924 non-null  object \n",
      " 15  줄거리         2623 non-null   object \n",
      " 16  공연지역        35627 non-null  object \n",
      " 17  공연장르명       35628 non-null  object \n",
      " 18  오픈런         35628 non-null  object \n",
      " 19  내한여부        35628 non-null  object \n",
      " 20  아동공연여부      35628 non-null  object \n",
      " 21  대학로공연여부     35628 non-null  object \n",
      " 22  축제여부        35628 non-null  object \n",
      " 23  뮤지컬라이센스     35628 non-null  object \n",
      " 24  뮤지컬창작       35628 non-null  object \n",
      " 25  최종수정일       35628 non-null  object \n",
      " 26  공연상태        35628 non-null  object \n",
      " 27  공연시설ID      35628 non-null  object \n",
      " 28  공연시간        34929 non-null  object \n",
      " 29  소개이미지목록     0 non-null      float64\n",
      " 30  장르(통계)      8154 non-null   object \n",
      " 31  상연횟수        8154 non-null   float64\n",
      " 32  공연명(통계)     8154 non-null   object \n",
      " 33  공연시설명(통계)   8154 non-null   object \n",
      " 34  제작/기획사(통계)  0 non-null      float64\n",
      " 35  공연시작일(통계)   8154 non-null   object \n",
      " 36  공연종료일(통계)   8154 non-null   object \n",
      " 37  연도(통계)      8154 non-null   float64\n",
      " 38  월(통계)       8154 non-null   float64\n",
      " 39  장르코드(통계)    8154 non-null   object \n",
      "dtypes: float64(5), object(35)\n",
      "memory usage: 10.9+ MB\n"
     ]
    }
   ],
   "source": [
    "df.info()"
   ]
  },
  {
   "cell_type": "code",
   "execution_count": null,
   "id": "9b61d4eb",
   "metadata": {},
   "outputs": [],
   "source": [
    "# 결측치 삭제\n",
    "df.drop(columns=['소개이미지목록', '제작/기획사(통계)'], axis=1, inplace=True)"
   ]
  },
  {
   "cell_type": "code",
   "execution_count": 20,
   "id": "dc7bb0c8",
   "metadata": {},
   "outputs": [
    {
     "data": {
      "text/plain": [
       "티켓가격\n",
       "1인석 77,000원, 2인석 154,000원                                                                                         1\n",
       "R석 (2부작) 66,000원, S석 (2부작) 44,000원, R석 (3부작) 88,000원, S석 (3부작) 55,000원                                            1\n",
       "사전예약 30,000원, 현장판매 35,000원, 오프라인 티켓＋포스터 40,000원                                                                   1\n",
       "전석_1회차 공연 50,000원, 전석_2회차 공연 55,000원                                                                              1\n",
       "R석 121,000원, S석 110,000원, A석 88,000원, B석 77,000원                                                                  1\n",
       "C석 44,000원                                                                                                        1\n",
       "오프라인 티켓 22,000원, 온라인 티켓 5,000원, 현장판매 25,000원                                                                      1\n",
       "전석 55,000원, 전석 66,000원                                                                                            1\n",
       "R석 120,000원, S석 99,000원, A석 77,000원                                                                               1\n",
       "R석 100,000원, S석 90,000원, A석 80,000원                                                                               1\n",
       "사전예약 44,000원, 현장판매 48,000원                                                                                        1\n",
       "VIP석 140,000원, R석 120,000원, S석 80,000원, 시야제한석 60,000원                                                             1\n",
       "사전예약 22,000원, 현장판매 24,000원                                                                                        1\n",
       "오프라인티켓 25,000원                                                                                                    1\n",
       "R석 150,000원, S석 120,000원, A석 100,000원, B석 70,000원, C석 50,000원, 시야방해R석 105,000원, 시야방해S석 84,000원, 시야방해A석 70,000원    1\n",
       "R석 99,000원, OP석 99,000원, S석 77,000원, A석 55,000원                                                                   1\n",
       "VIP석 140,000원, 시카고석 130,000원, R석 120,000원, S석 90,000원, A석 60,000원                                                 1\n",
       "VIP석 100,000원, R석 80,000원, S석 60,000원, A석 40,000원, B석 20,000원                                                     1\n",
       "예매가/평일 11,000원, 예매가/주말 12,000원                                                                                    1\n",
       "VIP석 330,000원                                                                                                     1\n",
       "Name: count, dtype: int64"
      ]
     },
     "execution_count": 20,
     "metadata": {},
     "output_type": "execute_result"
    }
   ],
   "source": [
    "# 티켓가격 탐색\n",
    "df['티켓가격'].value_counts().tail(20)"
   ]
  },
  {
   "cell_type": "code",
   "execution_count": null,
   "id": "117f8b05",
   "metadata": {},
   "outputs": [],
   "source": [
    "def clean_tickek_data(df):\n",
    "    # 1) 디너쇼 제거\n",
    "    mask_dinnershow = df['공연명'].str.contains('디너쇼|디너 쇼|디너콘서트|디너 콘서트', na=False)\n",
    "    \n",
    "    # 2) 멀티데이권 제거\n",
    "    mask_multiday = df['티켓가격'].str.contains('양일권|2일권|3일권|전일권', na=False)\n",
    "    \n",
    "    # 3) 패키지 제거\n",
    "    mask_package = df['티켓가격'].str.contains('패키지|페키지', na=False)\n",
    "        \n",
    "    # 4) 최종 제거 mask\n",
    "    mask_remove = mask_dinnershow | mask_multiday | mask_package\n",
    "    \n",
    "    df_clean = df[~mask_remove].copy()\n",
    "    \n",
    "    print(f\"정제 전: {df.shape} 정제 후: {df_clean.shape}\")\n",
    "    return df_clean"
   ]
  },
  {
   "cell_type": "code",
   "execution_count": 74,
   "id": "7a8640e0",
   "metadata": {},
   "outputs": [
    {
     "name": "stdout",
     "output_type": "stream",
     "text": [
      "정제 전: (35630, 41) 정제 후: (35420, 41)\n"
     ]
    }
   ],
   "source": [
    "df_clean = clean_tickek_data(df)"
   ]
  },
  {
   "cell_type": "code",
   "execution_count": 76,
   "id": "f7a76a91",
   "metadata": {},
   "outputs": [],
   "source": [
    "df = df_clean.copy()"
   ]
  },
  {
   "cell_type": "code",
   "execution_count": 77,
   "id": "f82c14d0",
   "metadata": {},
   "outputs": [],
   "source": [
    "# 가격 전처리\n",
    "import re\n",
    "\n",
    "# 가격 문자열에서 숫자만 뽑아서 리스트로 변환\n",
    "def extract_prices_all(x):\n",
    "    if pd.isna(x):\n",
    "        return []\n",
    "    nums = re.findall(r\"\\d+\", str(x).replace(\",\",\"\"))\n",
    "    # 1000원 이상만 유효 가격으로 간주\n",
    "    return [int(n) for n in nums if int(n) >= 1000]"
   ]
  },
  {
   "cell_type": "code",
   "execution_count": 78,
   "id": "a98121fb",
   "metadata": {},
   "outputs": [],
   "source": [
    "df[\"티켓가격_list\"] = df[\"티켓가격\"].apply(extract_prices_all)\n",
    "df[\"최소가격\"] = df[\"티켓가격_list\"].apply(lambda x: min(x) if x else None)\n",
    "df[\"최대가격\"] = df[\"티켓가격_list\"].apply(lambda x: max(x) if x else None)"
   ]
  },
  {
   "cell_type": "code",
   "execution_count": 81,
   "id": "892bca61",
   "metadata": {},
   "outputs": [],
   "source": [
    "# 이상치 제거 (최소 가격이 40만원 이상)\n",
    "mask_min_outlier = df['최소가격'] >= 400_000\n",
    "df = df[~mask_min_outlier].copy()"
   ]
  },
  {
   "cell_type": "code",
   "execution_count": 86,
   "id": "9682109d",
   "metadata": {},
   "outputs": [],
   "source": [
    "df.to_csv(\"../datasets/KOPIS/performance_cleaned.csv\", index=False, encoding=\"utf-8-sig\")"
   ]
  },
  {
   "cell_type": "code",
   "execution_count": null,
   "id": "408127f8",
   "metadata": {},
   "outputs": [],
   "source": []
  }
 ],
 "metadata": {
  "kernelspec": {
   "display_name": "base",
   "language": "python",
   "name": "python3"
  },
  "language_info": {
   "codemirror_mode": {
    "name": "ipython",
    "version": 3
   },
   "file_extension": ".py",
   "mimetype": "text/x-python",
   "name": "python",
   "nbconvert_exporter": "python",
   "pygments_lexer": "ipython3",
   "version": "3.11.7"
  }
 },
 "nbformat": 4,
 "nbformat_minor": 5
}
